{
 "cells": [
  {
   "cell_type": "markdown",
   "metadata": {},
   "source": [
    "# Import Libraries:"
   ]
  },
  {
   "cell_type": "code",
   "execution_count": 510,
   "metadata": {},
   "outputs": [],
   "source": [
    "#import libraries\n",
    "import numpy as np\n",
    "import matplotlib.pyplot as plt\n",
    "import pandas as pd\n",
    "import mglearn\n",
    "import seaborn as sns\n",
    "%matplotlib inline\n",
    "import random as rd"
   ]
  },
  {
   "cell_type": "code",
   "execution_count": 511,
   "metadata": {},
   "outputs": [],
   "source": [
    "def get_distance(x, xk):\n",
    "\n",
    "    return np.sqrt((x.reshape(-1,1)-xk.reshape(1,-1))**2)"
   ]
  },
  {
   "cell_type": "code",
   "execution_count": 512,
   "metadata": {},
   "outputs": [],
   "source": [
    "def gauss_rbf(radius):\n",
    "    return np.exp(-(radius)**2)"
   ]
  },
  {
   "cell_type": "code",
   "execution_count": 513,
   "metadata": {},
   "outputs": [],
   "source": [
    "class RBF:\n",
    "\n",
    "    def __init__(self, X, y, tX, ty, num_of_classes):\n",
    "        self.X = X\n",
    "        self.y = y\n",
    "\n",
    "        self.tX = tX\n",
    "        self.ty = ty\n",
    "\n",
    "        self.number_of_classes = num_of_classes\n",
    "       \n",
    "     \n",
    "\n",
    "    def convert_to_one_hot(self, x, num_of_classes):\n",
    "        arr = np.zeros((len(x), num_of_classes))\n",
    "        for i in range(len(x)):\n",
    "            c = int(x[i])\n",
    "            arr[i][c] = 1\n",
    "        return arr\n",
    "\n",
    "   \n",
    "\n",
    "    def fit(self):\n",
    "\n",
    "       \n",
    "        distance = get_distance(self.X, self.X)\n",
    "      \n",
    "        transformation = gauss_rbf(distance)\n",
    "\n",
    "        \n",
    "        RBF_X = transformation\n",
    "\n",
    "        self.w = np.linalg.pinv(RBF_X.T @ RBF_X) @ RBF_X.T @ self.convert_to_one_hot(self.y, self.number_of_classes)\n",
    "\n",
    "        \n",
    "\n",
    "        distance = get_distance(self.tX, self.tX)\n",
    "      \n",
    "        transformation = gauss_rbf(distance)\n",
    "\n",
    "\n",
    "    \n",
    "        RBF_list_tst = transformation\n",
    "\n",
    "        self.w_tst = np.linalg.pinv(RBF_list_tst.T @ RBF_list_tst) @ RBF_list_tst.T @ self.convert_to_one_hot(self.ty, self.number_of_classes)\n",
    "\n",
    "        self.pred_ty = RBF_list_tst @ self.w_tst\n",
    "\n",
    "        self.pred_ty = np.array([np.argmax(x) for x in self.pred_ty])\n",
    "\n",
    "        diff = self.pred_ty - self.ty\n",
    "\n",
    "        print('Accuracy: ', len(np.where(diff == 0)[0]) / len(diff))\n",
    "\n",
    "        return self.pred_ty"
   ]
  },
  {
   "cell_type": "markdown",
   "metadata": {},
   "source": [
    "# Load Dataset:"
   ]
  },
  {
   "cell_type": "code",
   "execution_count": 514,
   "metadata": {},
   "outputs": [
    {
     "name": "stdout",
     "output_type": "stream",
     "text": [
      "   5.1  3.5  1.4  0.2  Iris-setosa\n",
      "0  4.9  3.0  1.4  0.2  Iris-setosa\n",
      "1  4.7  3.2  1.3  0.2  Iris-setosa\n",
      "2  4.6  3.1  1.5  0.2  Iris-setosa\n",
      "3  5.0  3.6  1.4  0.2  Iris-setosa\n",
      "4  5.4  3.9  1.7  0.4  Iris-setosa\n",
      "              5.1         3.5         1.4         0.2\n",
      "count  149.000000  149.000000  149.000000  149.000000\n",
      "mean     5.848322    3.051007    3.774497    1.205369\n",
      "std      0.828594    0.433499    1.759651    0.761292\n",
      "min      4.300000    2.000000    1.000000    0.100000\n",
      "25%      5.100000    2.800000    1.600000    0.300000\n",
      "50%      5.800000    3.000000    4.400000    1.300000\n",
      "75%      6.400000    3.300000    5.100000    1.800000\n",
      "max      7.900000    4.400000    6.900000    2.500000\n",
      "<class 'pandas.core.frame.DataFrame'>\n",
      "RangeIndex: 149 entries, 0 to 148\n",
      "Data columns (total 5 columns):\n",
      " #   Column       Non-Null Count  Dtype  \n",
      "---  ------       --------------  -----  \n",
      " 0   5.1          149 non-null    float64\n",
      " 1   3.5          149 non-null    float64\n",
      " 2   1.4          149 non-null    float64\n",
      " 3   0.2          149 non-null    float64\n",
      " 4   Iris-setosa  149 non-null    object \n",
      "dtypes: float64(4), object(1)\n",
      "memory usage: 5.9+ KB\n",
      "None\n"
     ]
    }
   ],
   "source": [
    "dataset=pd.read_csv('iris.csv')\n",
    "print(dataset.head())\n",
    "print(dataset.describe())\n",
    "print(dataset.info())"
   ]
  },
  {
   "cell_type": "markdown",
   "metadata": {},
   "source": [
    "# Assign columns to the dataset"
   ]
  },
  {
   "cell_type": "code",
   "execution_count": 515,
   "metadata": {},
   "outputs": [
    {
     "data": {
      "text/html": [
       "<div>\n",
       "<style scoped>\n",
       "    .dataframe tbody tr th:only-of-type {\n",
       "        vertical-align: middle;\n",
       "    }\n",
       "\n",
       "    .dataframe tbody tr th {\n",
       "        vertical-align: top;\n",
       "    }\n",
       "\n",
       "    .dataframe thead th {\n",
       "        text-align: right;\n",
       "    }\n",
       "</style>\n",
       "<table border=\"1\" class=\"dataframe\">\n",
       "  <thead>\n",
       "    <tr style=\"text-align: right;\">\n",
       "      <th></th>\n",
       "      <th>sepal length (cm)</th>\n",
       "      <th>sepal width (cm)</th>\n",
       "      <th>petal length (cm)</th>\n",
       "      <th>petal width (cm)</th>\n",
       "      <th>target</th>\n",
       "    </tr>\n",
       "  </thead>\n",
       "  <tbody>\n",
       "    <tr>\n",
       "      <th>0</th>\n",
       "      <td>4.9</td>\n",
       "      <td>3</td>\n",
       "      <td>1.4</td>\n",
       "      <td>0.2</td>\n",
       "      <td>Iris-setosa</td>\n",
       "    </tr>\n",
       "    <tr>\n",
       "      <th>1</th>\n",
       "      <td>4.7</td>\n",
       "      <td>3.2</td>\n",
       "      <td>1.3</td>\n",
       "      <td>0.2</td>\n",
       "      <td>Iris-setosa</td>\n",
       "    </tr>\n",
       "    <tr>\n",
       "      <th>2</th>\n",
       "      <td>4.6</td>\n",
       "      <td>3.1</td>\n",
       "      <td>1.5</td>\n",
       "      <td>0.2</td>\n",
       "      <td>Iris-setosa</td>\n",
       "    </tr>\n",
       "    <tr>\n",
       "      <th>3</th>\n",
       "      <td>5</td>\n",
       "      <td>3.6</td>\n",
       "      <td>1.4</td>\n",
       "      <td>0.2</td>\n",
       "      <td>Iris-setosa</td>\n",
       "    </tr>\n",
       "    <tr>\n",
       "      <th>4</th>\n",
       "      <td>5.4</td>\n",
       "      <td>3.9</td>\n",
       "      <td>1.7</td>\n",
       "      <td>0.4</td>\n",
       "      <td>Iris-setosa</td>\n",
       "    </tr>\n",
       "  </tbody>\n",
       "</table>\n",
       "</div>"
      ],
      "text/plain": [
       "  sepal length (cm) sepal width (cm) petal length (cm) petal width (cm)  \\\n",
       "0               4.9                3               1.4              0.2   \n",
       "1               4.7              3.2               1.3              0.2   \n",
       "2               4.6              3.1               1.5              0.2   \n",
       "3                 5              3.6               1.4              0.2   \n",
       "4               5.4              3.9               1.7              0.4   \n",
       "\n",
       "        target  \n",
       "0  Iris-setosa  \n",
       "1  Iris-setosa  \n",
       "2  Iris-setosa  \n",
       "3  Iris-setosa  \n",
       "4  Iris-setosa  "
      ]
     },
     "execution_count": 515,
     "metadata": {},
     "output_type": "execute_result"
    }
   ],
   "source": [
    "\n",
    "columns_value = ['sepal length (cm)',\t'sepal width (cm)'\t,'petal length (cm)',\t'petal width (cm)','target']\n",
    "dataset = dataset.values\n",
    "dataset = pd.DataFrame(dataset,columns=columns_value)\n",
    "dataset.head()"
   ]
  },
  {
   "cell_type": "code",
   "execution_count": 516,
   "metadata": {},
   "outputs": [],
   "source": [
    "dataset ['sepal length (cm)'] = dataset ['sepal length (cm)'].astype(np.float64)\n",
    "dataset ['sepal width (cm)'] = dataset ['sepal width (cm)'].astype(np.float64)\n",
    "dataset ['petal length (cm)'] = dataset ['petal length (cm)'].astype(np.float64)\n",
    "dataset ['petal width (cm)'] = dataset ['petal width (cm)'].astype(np.float64)"
   ]
  },
  {
   "cell_type": "markdown",
   "metadata": {},
   "source": []
  },
  {
   "cell_type": "markdown",
   "metadata": {},
   "source": [
    "# Preprocess or reduce the dimenstions using PCA\n",
    "Only numerical data can be used. Generally K-means works best for 2 dimensional numerical data.But in reality there are always multiple features to be considered at a time. However, we must be careful about curse of dimensionality , where the error increases with the increase in the number of features.Any more than 2 dimensions mean that distance interpretation is not obvious and must be guarded against. Appropriate dimensionality reduction techniques and distance measures must be used.In our case iris dataset have 4 features , so we will apply PCA.\n",
    "# Standardize the dataset:\n",
    "1. store the labels into a variable y\n",
    "2. store the iris data in X\n",
    "3. normalize the iris data "
   ]
  },
  {
   "cell_type": "code",
   "execution_count": 517,
   "metadata": {},
   "outputs": [],
   "source": [
    "# store the labels into a variable y\n",
    "y = dataset['target']\n",
    "# store the iris data in X\n",
    "\n",
    "X = dataset.iloc[:,:4]\n",
    "# normalize the iris data \n",
    "X_Scaled  = ((X - X.mean()) / (X.std()))\n",
    "X_Scaled = X_Scaled.values\n",
    "X_Scaled = X_Scaled.astype(float)\n",
    "\n"
   ]
  },
  {
   "cell_type": "markdown",
   "metadata": {},
   "source": [
    "## Calculate Covariance Matrix:"
   ]
  },
  {
   "cell_type": "code",
   "execution_count": 518,
   "metadata": {},
   "outputs": [
    {
     "data": {
      "text/plain": [
       "array([[ 1.        , -0.10378415,  0.87128294,  0.81697087],\n",
       "       [-0.10378415,  1.        , -0.41521773, -0.35073314],\n",
       "       [ 0.87128294, -0.41521773,  1.        ,  0.9623143 ],\n",
       "       [ 0.81697087, -0.35073314,  0.9623143 ,  1.        ]])"
      ]
     },
     "execution_count": 518,
     "metadata": {},
     "output_type": "execute_result"
    }
   ],
   "source": [
    "df_cov = np.cov(X_Scaled.T)\n",
    "df_cov"
   ]
  },
  {
   "cell_type": "markdown",
   "metadata": {},
   "source": [
    "## Calculate the eigenvalues and eigenvectors "
   ]
  },
  {
   "cell_type": "code",
   "execution_count": 519,
   "metadata": {},
   "outputs": [],
   "source": [
    "eigen_val, eigen_vectors = np.linalg.eig(df_cov)"
   ]
  },
  {
   "cell_type": "markdown",
   "metadata": {},
   "source": [
    "## Pick K (1) eigenvalues and form eigenvectors"
   ]
  },
  {
   "cell_type": "code",
   "execution_count": 520,
   "metadata": {},
   "outputs": [],
   "source": [
    "n_components=1\n",
    "top_eigen_vectors = eigen_vectors[:,:n_components]"
   ]
  },
  {
   "cell_type": "markdown",
   "metadata": {},
   "source": [
    "## Transform the original matrix"
   ]
  },
  {
   "cell_type": "code",
   "execution_count": 521,
   "metadata": {},
   "outputs": [
    {
     "data": {
      "text/plain": [
       "array([[-2.10086475],\n",
       "       [-2.37994449],\n",
       "       [-2.31706435],\n",
       "       [-2.397002  ],\n",
       "       [-2.07620112],\n",
       "       [-2.45540349],\n",
       "       [-2.2441807 ],\n",
       "       [-2.35663311],\n",
       "       [-2.20203659],\n",
       "       [-2.17129706]])"
      ]
     },
     "execution_count": 521,
     "metadata": {},
     "output_type": "execute_result"
    }
   ],
   "source": [
    "X = np.matmul(np.array(X_Scaled),top_eigen_vectors)\n",
    "X[0:10]"
   ]
  },
  {
   "cell_type": "code",
   "execution_count": 522,
   "metadata": {},
   "outputs": [],
   "source": [
    "columns_value = ['PCA1']"
   ]
  },
  {
   "cell_type": "code",
   "execution_count": 523,
   "metadata": {},
   "outputs": [],
   "source": [
    "dataset = pd.DataFrame(X,columns=columns_value)"
   ]
  },
  {
   "cell_type": "code",
   "execution_count": 524,
   "metadata": {},
   "outputs": [],
   "source": [
    "\n",
    "dataset = dataset.join(pd.Series(y, name='target'))"
   ]
  },
  {
   "cell_type": "code",
   "execution_count": 525,
   "metadata": {},
   "outputs": [
    {
     "data": {
      "text/html": [
       "<div>\n",
       "<style scoped>\n",
       "    .dataframe tbody tr th:only-of-type {\n",
       "        vertical-align: middle;\n",
       "    }\n",
       "\n",
       "    .dataframe tbody tr th {\n",
       "        vertical-align: top;\n",
       "    }\n",
       "\n",
       "    .dataframe thead th {\n",
       "        text-align: right;\n",
       "    }\n",
       "</style>\n",
       "<table border=\"1\" class=\"dataframe\">\n",
       "  <thead>\n",
       "    <tr style=\"text-align: right;\">\n",
       "      <th></th>\n",
       "      <th>PCA1</th>\n",
       "      <th>target</th>\n",
       "    </tr>\n",
       "  </thead>\n",
       "  <tbody>\n",
       "    <tr>\n",
       "      <th>0</th>\n",
       "      <td>-2.100865</td>\n",
       "      <td>Iris-setosa</td>\n",
       "    </tr>\n",
       "    <tr>\n",
       "      <th>1</th>\n",
       "      <td>-2.379944</td>\n",
       "      <td>Iris-setosa</td>\n",
       "    </tr>\n",
       "    <tr>\n",
       "      <th>2</th>\n",
       "      <td>-2.317064</td>\n",
       "      <td>Iris-setosa</td>\n",
       "    </tr>\n",
       "    <tr>\n",
       "      <th>3</th>\n",
       "      <td>-2.397002</td>\n",
       "      <td>Iris-setosa</td>\n",
       "    </tr>\n",
       "    <tr>\n",
       "      <th>4</th>\n",
       "      <td>-2.076201</td>\n",
       "      <td>Iris-setosa</td>\n",
       "    </tr>\n",
       "  </tbody>\n",
       "</table>\n",
       "</div>"
      ],
      "text/plain": [
       "       PCA1       target\n",
       "0 -2.100865  Iris-setosa\n",
       "1 -2.379944  Iris-setosa\n",
       "2 -2.317064  Iris-setosa\n",
       "3 -2.397002  Iris-setosa\n",
       "4 -2.076201  Iris-setosa"
      ]
     },
     "execution_count": 525,
     "metadata": {},
     "output_type": "execute_result"
    }
   ],
   "source": [
    "dataset.head()"
   ]
  },
  {
   "cell_type": "code",
   "execution_count": 526,
   "metadata": {},
   "outputs": [],
   "source": [
    "# Shuffle your dataset \n",
    "shuffle_df = dataset.sample(frac=1)\n",
    "\n",
    "shuffle_df = shuffle_df.reset_index(drop=True)\n",
    "shuffle_df\n",
    "\n",
    "# store the labels into a variable y\n",
    "# y = shuffle_df['target']\n",
    "\n",
    "y = shuffle_df['target'].map({'Iris-setosa':0, 'Iris-versicolor':1, 'Iris-virginica':2})\n",
    "y = np.array(y)\n",
    "\n",
    "# store the pixel data in X\n",
    "X = shuffle_df.drop(\"target\", axis = 1)\n",
    "X= X.values"
   ]
  },
  {
   "cell_type": "code",
   "execution_count": 527,
   "metadata": {},
   "outputs": [],
   "source": [
    "split = int(X.shape[0] * 0.80)\n",
    "train_x, test_x, train_y, test_y = X[:split], X[split:], y[:split], y[split:]"
   ]
  },
  {
   "cell_type": "code",
   "execution_count": 528,
   "metadata": {},
   "outputs": [
    {
     "name": "stdout",
     "output_type": "stream",
     "text": [
      "Accuracy:  1.0\n"
     ]
    }
   ],
   "source": [
    "RBF_CLASSIFIER = RBF(train_x, train_y, test_x, test_y, num_of_classes=3)\n",
    "\n",
    "pred_ty=RBF_CLASSIFIER.fit()"
   ]
  },
  {
   "cell_type": "code",
   "execution_count": 529,
   "metadata": {},
   "outputs": [
    {
     "name": "stdout",
     "output_type": "stream",
     "text": [
      "Test Y     : [0 2 1 0 1 1 0 0 0 2 0 1 2 2 2 2 1 2 0 2 0 0 1 2 1 1 1 2 2 1]\n",
      "Predicted Y: [0 2 1 0 1 1 0 0 0 2 0 1 2 2 2 2 1 2 0 2 0 0 1 2 1 1 1 2 2 1]\n"
     ]
    }
   ],
   "source": [
    "print(\"Test Y     :\",test_y)\n",
    "print(\"Predicted Y:\",pred_ty)"
   ]
  },
  {
   "cell_type": "code",
   "execution_count": 530,
   "metadata": {},
   "outputs": [
    {
     "data": {
      "image/png": "[encoded data removed]",
      "text/plain": [
       "<Figure size 432x288 with 1 Axes>"
      ]
     },
     "metadata": {
      "needs_background": "light"
     },
     "output_type": "display_data"
    }
   ],
   "source": [
    "plt.plot(test_x, test_y, 'x', markersize=15, label='true')\n",
    "plt.plot(test_x, pred_ty, 'o',  label='RBF')\n",
    "plt.legend()\n",
    "plt.tight_layout()\n",
    "plt.show()"
   ]
  },
  {
   "cell_type": "markdown",
   "metadata": {},
   "source": [
    "### Finally, let’s implement all these steps using the sklearn library so that we can compare the results:"
   ]
  },
  {
   "cell_type": "code",
   "execution_count": 531,
   "metadata": {},
   "outputs": [
    {
     "data": {
      "text/plain": [
       "KMeans(n_clusters=3, random_state=42)"
      ]
     },
     "execution_count": 531,
     "metadata": {},
     "output_type": "execute_result"
    }
   ],
   "source": [
    "#lets implement the same algorithm using sklearn libraries\n",
    "# Using the elbow method to find the optimal number of clusters\n",
    "from sklearn.cluster import KMeans\n",
    "#train\n",
    "kmeans = KMeans(n_clusters = 3, init = 'k-means++', random_state = 42)\n",
    "kmeans.fit(train_x)"
   ]
  },
  {
   "cell_type": "code",
   "execution_count": 532,
   "metadata": {},
   "outputs": [
    {
     "data": {
      "text/plain": [
       "array([1, 2, 0, 1, 0, 0, 1, 1, 1, 2, 1, 0, 2, 0, 2, 2, 0, 2, 1, 2, 1, 1,\n",
       "       0, 2, 0, 0, 2, 2, 2, 2])"
      ]
     },
     "execution_count": 532,
     "metadata": {},
     "output_type": "execute_result"
    }
   ],
   "source": [
    "# Predict\n",
    "\n",
    "y_kmeans_bulitin = kmeans.fit_predict(test_x)\n",
    "y_kmeans_bulitin"
   ]
  },
  {
   "cell_type": "code",
   "execution_count": 533,
   "metadata": {},
   "outputs": [
    {
     "data": {
      "image/png": "[encoded data removed]",
      "text/plain": [
       "<Figure size 432x288 with 1 Axes>"
      ]
     },
     "metadata": {
      "needs_background": "light"
     },
     "output_type": "display_data"
    }
   ],
   "source": [
    "plt.plot(test_x, test_y, 'x', markersize=15, label='true')\n",
    "plt.plot(test_x, y_kmeans_bulitin, 'o',  label='Kmeans library')\n",
    "plt.legend()\n",
    "plt.tight_layout()\n",
    "plt.show()"
   ]
  }
 ],
 "metadata": {
  "interpreter": {
   "hash": "4eb274054fa02e7aeda96e1bc6efdea2098fe70b2cf7102997099425e2177b04"
  },
  "kernelspec": {
   "display_name": "Python 3.8.5 64-bit ('base': conda)",
   "language": "python",
   "name": "python3"
  },
  "language_info": {
   "codemirror_mode": {
    "name": "ipython",
    "version": 3
   },
   "file_extension": ".py",
   "mimetype": "text/x-python",
   "name": "python",
   "nbconvert_exporter": "python",
   "pygments_lexer": "ipython3",
   "version": "3.8.5"
  },
  "orig_nbformat": 4
 },
 "nbformat": 4,
 "nbformat_minor": 2
}
